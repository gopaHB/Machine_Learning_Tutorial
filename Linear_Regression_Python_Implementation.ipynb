{
 "cells": [
  {
   "cell_type": "code",
   "execution_count": 3,
   "id": "45cda438",
   "metadata": {},
   "outputs": [
    {
     "name": "stdout",
     "output_type": "stream",
     "text": [
      "[[160]\n",
      " [171]\n",
      " [182]\n",
      " [180]\n",
      " [154]] [72 76 77 83 76]\n",
      "169.4 76.8\n"
     ]
    }
   ],
   "source": [
    "import numpy as np\n",
    "x_data=np.array([160,171,182,180,154],ndmin=2)\n",
    "x_data=x_data.reshape((5,1))\n",
    "y_data=np.array([72,76,77,83,76])\n",
    "# y_data=x_data.reshape((5,1))\n",
    "print(x_data,y_data)\n",
    "x_mean=np.mean(x_data)\n",
    "y_mean=np.mean(y_data)\n",
    "print(x_mean,y_mean)\n",
    "\n",
    "class LinearRegression:\n",
    "    \n"
   ]
  },
  {
   "cell_type": "code",
   "execution_count": null,
   "id": "28ebb013",
   "metadata": {},
   "outputs": [],
   "source": []
  },
  {
   "cell_type": "code",
   "execution_count": null,
   "id": "2201ba4b",
   "metadata": {},
   "outputs": [],
   "source": []
  }
 ],
 "metadata": {
  "kernelspec": {
   "display_name": "Python 3",
   "language": "python",
   "name": "python3"
  },
  "language_info": {
   "codemirror_mode": {
    "name": "ipython",
    "version": 3
   },
   "file_extension": ".py",
   "mimetype": "text/x-python",
   "name": "python",
   "nbconvert_exporter": "python",
   "pygments_lexer": "ipython3",
   "version": "3.6.13"
  }
 },
 "nbformat": 4,
 "nbformat_minor": 5
}
