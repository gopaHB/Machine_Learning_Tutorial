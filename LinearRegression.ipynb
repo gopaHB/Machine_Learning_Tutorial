{
 "cells": [
  {
   "cell_type": "code",
   "execution_count": 3,
   "id": "1f7729b9",
   "metadata": {},
   "outputs": [
    {
     "name": "stdout",
     "output_type": "stream",
     "text": [
      "(array([41.63084112]), array([0.20761015]))\n",
      "[78.17022697]\n"
     ]
    }
   ],
   "source": [
    "import numpy as np \n",
    "X_data = np.array([160, 171, 182, 180, 154], ndmin=2)\n",
    "X_data = X_data.reshape((5,1))\n",
    "y_data = np.array([72, 76, 77, 83, 76])\n",
    "# print(X_data.shape, y_data)\n",
    "X_mean = np.mean(X_data)\n",
    "y_mean = np.mean(y_data)\n",
    "n = len(X_data)\n",
    "\n",
    "class LinearRegression:\n",
    "    b0 = 0\n",
    "    b1 = 0\n",
    "    def LinearRegression_fit(self, X, y):\n",
    "        upward_function = 0\n",
    "        x_downward = 0\n",
    "        for i in range(n):\n",
    "            upward_function += (X_data[i]-X_mean)*(y_data[i]-y_mean)\n",
    "            x_downward += (X_data[i]-X_mean)**2\n",
    "        self.b1 = upward_function/x_downward\n",
    "        self.b0 = y_mean - (self.b1*X_mean)\n",
    "        return self.b0, self.b1\n",
    "\n",
    "    def LinearRegression_predict(self, Xi):\n",
    "        y_pred = self.b0 + (self.b1*Xi)\n",
    "        return y_pred\n",
    "\n",
    "\n",
    "model = LinearRegression()\n",
    "print(model.LinearRegression_fit(X_data,y_data))\n",
    "print(model.LinearRegression_predict(176))"
   ]
  }
 ],
 "metadata": {
  "kernelspec": {
   "display_name": "Python 3",
   "language": "python",
   "name": "python3"
  },
  "language_info": {
   "codemirror_mode": {
    "name": "ipython",
    "version": 3
   },
   "file_extension": ".py",
   "mimetype": "text/x-python",
   "name": "python",
   "nbconvert_exporter": "python",
   "pygments_lexer": "ipython3",
   "version": "3.6.13"
  }
 },
 "nbformat": 4,
 "nbformat_minor": 5
}
