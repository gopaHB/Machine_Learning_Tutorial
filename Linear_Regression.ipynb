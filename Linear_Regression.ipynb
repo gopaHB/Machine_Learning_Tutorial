{
 "cells": [
  {
   "cell_type": "code",
   "execution_count": 5,
   "id": "837b6678",
   "metadata": {},
   "outputs": [
    {
     "name": "stdout",
     "output_type": "stream",
     "text": [
      "(array([41.63084112]), array([0.20761015]))\n",
      "[78.17022697]\n"
     ]
    }
   ],
   "source": [
    "import numpy as np\n",
    "x_data=np.array([160,171,182,180,154],ndmin=2)\n",
    "x_data=x_data.reshape(5,1)\n",
    "y_data=np.array([72,76,77,83,76])\n",
    "# y_data=y_data.reshape(5,1)\n",
    "\n",
    "# print(x_data,y_data)\n",
    "# print(x_data.shape,y_data)\n",
    "x_mean=np.mean(x_data)\n",
    "y_mean=np.mean(y_data)\n",
    "n=len(x_data)\n",
    "class LinearRegration:\n",
    "    b0=0\n",
    "    b1=0\n",
    "    def LinearRegration_fit(self,x,y):\n",
    "        upward_function=0\n",
    "        x_downwrad=0\n",
    "        for i in range(n):\n",
    "            upward_function+=(x_data[i]-x_mean)*(y_data[i]-y_mean)\n",
    "            x_downwrad+=(x_data[i]-x_mean)**2\n",
    "        self.b1=upward_function/x_downwrad\n",
    "        self.b0=y_mean-(self.b1*x_mean)\n",
    "        return self.b0,self.b1\n",
    "    def LinearRegration_predict(self,xi):\n",
    "        y_pred=self.b0+(self.b1*xi)\n",
    "        return y_pred\n",
    "    \n",
    "model=LinearRegration()\n",
    "\n",
    "print(model.LinearRegration_fit(x_data,y_data))\n",
    "print(model.LinearRegration_predict(176))\n",
    "\n",
    "            \n",
    "        "
   ]
  },
  {
   "cell_type": "code",
   "execution_count": null,
   "id": "1000d327",
   "metadata": {},
   "outputs": [],
   "source": []
  }
 ],
 "metadata": {
  "kernelspec": {
   "display_name": "Python 3",
   "language": "python",
   "name": "python3"
  },
  "language_info": {
   "codemirror_mode": {
    "name": "ipython",
    "version": 3
   },
   "file_extension": ".py",
   "mimetype": "text/x-python",
   "name": "python",
   "nbconvert_exporter": "python",
   "pygments_lexer": "ipython3",
   "version": "3.6.13"
  }
 },
 "nbformat": 4,
 "nbformat_minor": 5
}
